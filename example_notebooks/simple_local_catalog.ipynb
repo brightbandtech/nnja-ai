{
 "cells": [
  {
   "cell_type": "markdown",
   "metadata": {},
   "source": [
    "# Dummy example showing a data catalog and dataset"
   ]
  },
  {
   "cell_type": "code",
   "execution_count": null,
   "metadata": {},
   "outputs": [],
   "source": [
    "# #  Uncomment to generate some sample data.\n",
    "# N_TIMESTEPS = 50\n",
    "# df = pd.DataFrame({\n",
    "#     \"lat\": np.random.uniform(-90, 90, N_TIMESTEPS),\n",
    "#     \"lon\": np.random.uniform(-180, 180, N_TIMESTEPS),\n",
    "#     \"time\": pd.date_range(\"2020-01-01\", periods=N_TIMESTEPS, freq=\"h\"),\n",
    "#     \"said\": np.random.randint(1, 10, N_TIMESTEPS),\n",
    "#     \"fovn\": np.random.randint(1, 10, N_TIMESTEPS),\n",
    "#     \"tmbr_00001\": np.random.uniform(200, 300, N_TIMESTEPS),\n",
    "#     \"tmbr_00002\": np.random.uniform(200, 300, N_TIMESTEPS),\n",
    "#     \"tmbr_00003\": np.random.uniform(200, 300, N_TIMESTEPS),\n",
    "#     \"tmbr_00004\": np.random.uniform(200, 300, N_TIMESTEPS),\n",
    "#     \"tmbr_00005\": np.random.uniform(200, 300, N_TIMESTEPS)\n",
    "# })\n",
    "# df['OBS_DATE'] = df['time'].dt.date\n",
    "# df.to_parquet(\"amsu_data.parquet\", partition_cols=['OBS_DATE'])"
   ]
  },
  {
   "cell_type": "code",
   "execution_count": 1,
   "metadata": {},
   "outputs": [
    {
     "name": "stderr",
     "output_type": "stream",
     "text": [
      "Could not load dataset for group 'ADPSFC', message type 'MSG_TYPE_07': [Errno 2] No such file or directory: '/path/to/surface/metar/MSG_TYPE_07.json'\n",
      "Could not load dataset for group 'ADPSFC', message type 'MSG_TYPE_09': [Errno 2] No such file or directory: '/path/to/surface/synoptic/MSG_TYPE_09.json'\n"
     ]
    }
   ],
   "source": [
    "from nnja import DataCatalog\n",
    "catalog_json = \"./catalog.json\"\n",
    "catalog = DataCatalog(catalog_json)"
   ]
  },
  {
   "cell_type": "code",
   "execution_count": 2,
   "metadata": {},
   "outputs": [
    {
     "data": {
      "text/plain": [
       "['amsu', 'ADPSFC']"
      ]
     },
     "execution_count": 2,
     "metadata": {},
     "output_type": "execute_result"
    }
   ],
   "source": [
    "catalog.list_datasets()"
   ]
  },
  {
   "cell_type": "code",
   "execution_count": 3,
   "metadata": {},
   "outputs": [
    {
     "data": {
      "text/plain": [
       "[('amsu', None, 'amsu_sample_data')]"
      ]
     },
     "execution_count": 3,
     "metadata": {},
     "output_type": "execute_result"
    }
   ],
   "source": [
    "datasets = catalog.search(\"amsu\")\n",
    "datasets"
   ]
  },
  {
   "cell_type": "code",
   "execution_count": 4,
   "metadata": {},
   "outputs": [],
   "source": [
    "amsu_data = catalog.get_dataset(datasets[0])"
   ]
  },
  {
   "cell_type": "code",
   "execution_count": 6,
   "metadata": {},
   "outputs": [
    {
     "data": {
      "text/plain": [
       "['amsu_data.parquet/OBS_DATE=2020-01-01/a6d3749324aa4b41aa4c9c716b3b7923-0.parquet',\n",
       " 'amsu_data.parquet/OBS_DATE=2020-01-02/a6d3749324aa4b41aa4c9c716b3b7923-0.parquet',\n",
       " 'amsu_data.parquet/OBS_DATE=2020-01-03/a6d3749324aa4b41aa4c9c716b3b7923-0.parquet']"
      ]
     },
     "execution_count": 6,
     "metadata": {},
     "output_type": "execute_result"
    }
   ],
   "source": [
    "amsu_data.manifest"
   ]
  },
  {
   "cell_type": "code",
   "execution_count": null,
   "metadata": {},
   "outputs": [],
   "source": []
  },
  {
   "cell_type": "code",
   "execution_count": null,
   "metadata": {},
   "outputs": [],
   "source": []
  },
  {
   "cell_type": "code",
   "execution_count": null,
   "metadata": {},
   "outputs": [],
   "source": []
  }
 ],
 "metadata": {
  "kernelspec": {
   "display_name": ".venv",
   "language": "python",
   "name": "python3"
  },
  "language_info": {
   "codemirror_mode": {
    "name": "ipython",
    "version": 3
   },
   "file_extension": ".py",
   "mimetype": "text/x-python",
   "name": "python",
   "nbconvert_exporter": "python",
   "pygments_lexer": "ipython3",
   "version": "3.12.5"
  }
 },
 "nbformat": 4,
 "nbformat_minor": 2
}
