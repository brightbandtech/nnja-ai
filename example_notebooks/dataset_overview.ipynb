{
 "cells": [
  {
   "cell_type": "markdown",
   "id": "ea4cd315",
   "metadata": {},
   "source": [
    "## Basic stats on all datasets, from the manifest"
   ]
  },
  {
   "cell_type": "markdown",
   "id": "926b9c54",
   "metadata": {},
   "source": [
    "We can iterate over all the datasets in the catalog and get the variable count in each category (primary data, secondary data, primary descriptors, secondary descriptors), the first day in the manifest, the last day, and the number of days in between (and infer the number of missing days)"
   ]
  },
  {
   "cell_type": "code",
   "execution_count": 1,
   "id": "5d1915da",
   "metadata": {},
   "outputs": [],
   "source": [
    "from nnja import DataCatalog"
   ]
  },
  {
   "cell_type": "code",
   "execution_count": null,
   "id": "d043c597",
   "metadata": {},
   "outputs": [
    {
     "name": "stdout",
     "output_type": "stream",
     "text": [
      "catalog json: gs://bb-nnja-ai-dev/data/v1/catalog.json\n",
      "datasets in catalog:\n"
     ]
    },
    {
     "data": {
      "text/plain": [
       "['amsua-1bamua-NC021023',\n",
       " 'atms-atms-NC021203',\n",
       " 'mhs-1bmhs-NC021027',\n",
       " 'cris-crisf4-NC021206',\n",
       " 'iasi-mtiasi-NC021241',\n",
       " 'geo-ahicsr-NC021044',\n",
       " 'geo-gsrasr-NC021045',\n",
       " 'geo-gsrcsr-NC021046',\n",
       " 'seviri-sevasr-NC021042',\n",
       " 'conv-adpsfc-NC000001',\n",
       " 'conv-adpsfc-NC000002',\n",
       " 'conv-adpsfc-NC000007',\n",
       " 'conv-adpsfc-NC000101',\n",
       " 'conv-adpupa-NC002001']"
      ]
     },
     "execution_count": 2,
     "metadata": {},
     "output_type": "execute_result"
    }
   ],
   "source": [
    "import os\n",
    "\n",
    "os.environ[\"NNJA_USE_AUTH\"] = \"true\"\n",
    "catalog = DataCatalog()\n",
    "print(\"catalog json:\", catalog.catalog_uri)\n",
    "print(\"datasets in catalog:\")\n",
    "catalog.list_datasets()"
   ]
  },
  {
   "cell_type": "code",
   "execution_count": null,
   "id": "30333471",
   "metadata": {},
   "outputs": [
    {
     "name": "stdout",
     "output_type": "stream",
     "text": [
      "first date: 1998-10-25 00:00:00+00:00\n",
      "last date: 2025-03-31 00:00:00+00:00\n",
      "days of data: 9654 (missing 1707 days)\n",
      "number of variables: 49\n",
      "Loading manifest for dataset 'atms-atms-NC021203'...\n",
      "first date: 2012-02-15 00:00:00+00:00\n",
      "last date: 2025-03-31 00:00:00+00:00\n",
      "days of data: 4793 (missing 17 days)\n",
      "number of variables: 199\n",
      "Loading manifest for dataset 'mhs-1bmhs-NC021027'...\n",
      "first date: 2007-02-27 00:00:00+00:00\n",
      "last date: 2025-03-31 00:00:00+00:00\n",
      "days of data: 6607 (missing 29 days)\n",
      "number of variables: 29\n",
      "Loading manifest for dataset 'cris-crisf4-NC021206'...\n",
      "first date: 2018-01-16 00:00:00+00:00\n",
      "last date: 2025-03-31 00:00:00+00:00\n",
      "days of data: 2631 (missing 15 days)\n",
      "number of variables: 474\n",
      "Loading manifest for dataset 'iasi-mtiasi-NC021241'...\n",
      "first date: 2008-01-01 00:00:00+00:00\n",
      "last date: 2025-03-31 00:00:00+00:00\n",
      "days of data: 6299 (missing 46 days)\n",
      "number of variables: 648\n",
      "Loading manifest for dataset 'geo-ahicsr-NC021044'...\n",
      "first date: 2019-12-01 00:00:00+00:00\n",
      "last date: 2025-03-31 00:00:00+00:00\n",
      "days of data: 1947 (missing 152 days)\n",
      "number of variables: 147\n",
      "Loading manifest for dataset 'geo-gsrasr-NC021045'...\n",
      "first date: 2019-12-01 00:00:00+00:00\n",
      "last date: 2025-03-31 00:00:00+00:00\n",
      "days of data: 1947 (missing 199 days)\n",
      "number of variables: 182\n",
      "Loading manifest for dataset 'geo-gsrcsr-NC021046'...\n",
      "first date: 2019-12-01 00:00:00+00:00\n",
      "last date: 2025-03-31 00:00:00+00:00\n",
      "days of data: 1947 (missing 175 days)\n",
      "number of variables: 219\n",
      "Loading manifest for dataset 'seviri-sevasr-NC021042'...\n",
      "first date: 2022-03-01 00:00:00+00:00\n",
      "last date: 2025-03-31 00:00:00+00:00\n",
      "days of data: 1126 (missing 0 days)\n",
      "number of variables: 265\n",
      "Loading manifest for dataset 'conv-adpsfc-NC000001'...\n",
      "first date: 1979-01-01 00:00:00+00:00\n",
      "last date: 2025-03-31 00:00:00+00:00\n",
      "days of data: 16891 (missing 2177 days)\n",
      "number of variables: 87\n",
      "Loading manifest for dataset 'conv-adpsfc-NC000002'...\n",
      "first date: 2005-08-18 00:00:00+00:00\n",
      "last date: 2025-03-31 00:00:00+00:00\n",
      "days of data: 7165 (missing 187 days)\n",
      "number of variables: 71\n",
      "Loading manifest for dataset 'conv-adpsfc-NC000007'...\n",
      "first date: 2005-08-18 00:00:00+00:00\n",
      "last date: 2025-03-31 00:00:00+00:00\n",
      "days of data: 7165 (missing 127 days)\n",
      "number of variables: 63\n",
      "Loading manifest for dataset 'conv-adpsfc-NC000101'...\n",
      "first date: 2020-10-22 00:00:00+00:00\n",
      "last date: 2025-03-31 00:00:00+00:00\n",
      "days of data: 1621 (missing 124 days)\n",
      "number of variables: 101\n",
      "Loading manifest for dataset 'conv-adpupa-NC002001'...\n",
      "first date: 2009-12-31 00:00:00+00:00\n",
      "last date: 2025-03-31 00:00:00+00:00\n",
      "days of data: 5569 (missing 124 days)\n",
      "number of variables: 265\n"
     ]
    }
   ],
   "source": [
    "# For each dataset, load the manifest, get the number of variables. From the manifest, get the OBS_DATE first and last values, and the expected number of days (diff between first and last), and compare to the actual number of days in the dataset.\n",
    "\n",
    "for dataset in catalog.list_datasets():\n",
    "    ds = catalog[dataset]\n",
    "    manifest = ds.manifest\n",
    "    first_date = manifest.index.min()\n",
    "    last_date = manifest.index.max()\n",
    "    expected_days = (last_date - first_date).days\n",
    "    actual_days = len(manifest.index.unique())\n",
    "    print(\"    first date:\", first_date.strftime(\"%Y-%m-%d\"))\n",
    "    print(\"    last date:\", last_date.strftime(\"%Y-%m-%d\"))\n",
    "    print(f\"    days of data: {expected_days} (missing {expected_days - actual_days} days)\")\n",
    "    print(f\"    number of variables: {len(ds.variables)}\")"
   ]
  },
  {
   "cell_type": "code",
   "execution_count": 5,
   "id": "e311cd0f",
   "metadata": {},
   "outputs": [
    {
     "data": {
      "text/plain": [
       "DatetimeIndex(['1998-10-25 00:00:00+00:00', '1998-10-26 00:00:00+00:00',\n",
       "               '1998-10-27 00:00:00+00:00', '1998-10-28 00:00:00+00:00',\n",
       "               '1998-10-29 00:00:00+00:00', '1998-10-30 00:00:00+00:00',\n",
       "               '1998-10-31 00:00:00+00:00', '1998-11-01 00:00:00+00:00',\n",
       "               '1998-11-02 00:00:00+00:00', '1998-11-03 00:00:00+00:00',\n",
       "               ...\n",
       "               '2025-03-22 00:00:00+00:00', '2025-03-23 00:00:00+00:00',\n",
       "               '2025-03-24 00:00:00+00:00', '2025-03-25 00:00:00+00:00',\n",
       "               '2025-03-26 00:00:00+00:00', '2025-03-27 00:00:00+00:00',\n",
       "               '2025-03-28 00:00:00+00:00', '2025-03-29 00:00:00+00:00',\n",
       "               '2025-03-30 00:00:00+00:00', '2025-03-31 00:00:00+00:00'],\n",
       "              dtype='datetime64[ns, UTC]', name='OBS_DATE', length=7947, freq=None)"
      ]
     },
     "execution_count": 5,
     "metadata": {},
     "output_type": "execute_result"
    }
   ],
   "source": [
    "ds.manifest.index"
   ]
  },
  {
   "cell_type": "code",
   "execution_count": null,
   "id": "b90391aa",
   "metadata": {},
   "outputs": [],
   "source": []
  }
 ],
 "metadata": {
  "kernelspec": {
   "display_name": ".venv",
   "language": "python",
   "name": "python3"
  },
  "language_info": {
   "codemirror_mode": {
    "name": "ipython",
    "version": 3
   },
   "file_extension": ".py",
   "mimetype": "text/x-python",
   "name": "python",
   "nbconvert_exporter": "python",
   "pygments_lexer": "ipython3",
   "version": "3.10.15"
  }
 },
 "nbformat": 4,
 "nbformat_minor": 5
}
